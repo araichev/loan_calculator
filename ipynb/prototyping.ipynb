{
 "cells": [
  {
   "cell_type": "code",
   "execution_count": 5,
   "metadata": {},
   "outputs": [
    {
     "name": "stdout",
     "output_type": "stream",
     "text": [
      "The autoreload extension is already loaded. To reload it, use:\n",
      "  %reload_ext autoreload\n"
     ]
    }
   ],
   "source": [
    "from pathlib import Path\n",
    "import sys\n",
    "\n",
    "import pandas as pd\n",
    "import numpy as np\n",
    "\n",
    "sys.path.append('../')\n",
    "import payulator as pl\n",
    "\n",
    "\n",
    "%load_ext autoreload\n",
    "%autoreload 2"
   ]
  },
  {
   "cell_type": "code",
   "execution_count": 6,
   "metadata": {},
   "outputs": [
    {
     "data": {
      "text/plain": [
       "Loan(code='loan-2019-02-22T11:49:54', kind='amortized', principal=1, interest_rate=0.12, payment_freq='monthly', compounding_freq='monthly', num_payments=1, fee=0, first_payment_date=None)"
      ]
     },
     "metadata": {},
     "output_type": "display_data"
    },
    {
     "data": {
      "text/html": [
       "<div>\n",
       "<style scoped>\n",
       "    .dataframe tbody tr th:only-of-type {\n",
       "        vertical-align: middle;\n",
       "    }\n",
       "\n",
       "    .dataframe tbody tr th {\n",
       "        vertical-align: top;\n",
       "    }\n",
       "\n",
       "    .dataframe thead th {\n",
       "        text-align: right;\n",
       "    }\n",
       "</style>\n",
       "<table border=\"1\" class=\"dataframe\">\n",
       "  <thead>\n",
       "    <tr style=\"text-align: right;\">\n",
       "      <th></th>\n",
       "      <th>payment_sequence</th>\n",
       "      <th>beginning_balance</th>\n",
       "      <th>principal_payment</th>\n",
       "      <th>interest_payment</th>\n",
       "      <th>ending_balance</th>\n",
       "      <th>notes</th>\n",
       "    </tr>\n",
       "  </thead>\n",
       "  <tbody>\n",
       "    <tr>\n",
       "      <th>0</th>\n",
       "      <td>1</td>\n",
       "      <td>1.0</td>\n",
       "      <td>1.0</td>\n",
       "      <td>0.01</td>\n",
       "      <td>0.0</td>\n",
       "      <td>NaN</td>\n",
       "    </tr>\n",
       "  </tbody>\n",
       "</table>\n",
       "</div>"
      ],
      "text/plain": [
       "   payment_sequence  beginning_balance  principal_payment  interest_payment  \\\n",
       "0                 1                1.0                1.0              0.01   \n",
       "\n",
       "   ending_balance  notes  \n",
       "0             0.0    NaN  "
      ]
     },
     "execution_count": 6,
     "metadata": {},
     "output_type": "execute_result"
    }
   ],
   "source": [
    "loan = pl.Loan(interest_rate=0.12)\n",
    "display(loan)\n",
    "loan.summarize()['payment_schedule']"
   ]
  },
  {
   "cell_type": "code",
   "execution_count": 7,
   "metadata": {},
   "outputs": [
    {
     "ename": "MultipleInvalid",
     "evalue": "Not a nonnegative number for dictionary value @ data['interest_rate']",
     "output_type": "error",
     "traceback": [
      "\u001b[0;31m---------------------------------------------------------------------------\u001b[0m",
      "\u001b[0;31mMultipleInvalid\u001b[0m                           Traceback (most recent call last)",
      "\u001b[0;32m<ipython-input-7-0455ff6bddae>\u001b[0m in \u001b[0;36m<module>\u001b[0;34m\u001b[0m\n\u001b[1;32m     12\u001b[0m }\n\u001b[1;32m     13\u001b[0m \u001b[0;34m\u001b[0m\u001b[0m\n\u001b[0;32m---> 14\u001b[0;31m \u001b[0mparams\u001b[0m \u001b[0;34m=\u001b[0m \u001b[0mpl\u001b[0m\u001b[0;34m.\u001b[0m\u001b[0mcheck_loan_params\u001b[0m\u001b[0;34m(\u001b[0m\u001b[0mparams\u001b[0m\u001b[0;34m)\u001b[0m\u001b[0;34m\u001b[0m\u001b[0;34m\u001b[0m\u001b[0m\n\u001b[0m\u001b[1;32m     15\u001b[0m \u001b[0;31m# params = pl.prune_loan_params(params)\u001b[0m\u001b[0;34m\u001b[0m\u001b[0;34m\u001b[0m\u001b[0;34m\u001b[0m\u001b[0m\n\u001b[1;32m     16\u001b[0m \u001b[0;31m# loan = pl.Loan(**params)\u001b[0m\u001b[0;34m\u001b[0m\u001b[0;34m\u001b[0m\u001b[0;34m\u001b[0m\u001b[0m\n",
      "\u001b[0;32m~/payulator/payulator/loan.py\u001b[0m in \u001b[0;36mcheck_loan_params\u001b[0;34m(params)\u001b[0m\n\u001b[1;32m    157\u001b[0m     )\n\u001b[1;32m    158\u001b[0m \u001b[0;34m\u001b[0m\u001b[0m\n\u001b[0;32m--> 159\u001b[0;31m     \u001b[0mparams\u001b[0m \u001b[0;34m=\u001b[0m \u001b[0mschema\u001b[0m\u001b[0;34m(\u001b[0m\u001b[0mparams\u001b[0m\u001b[0;34m)\u001b[0m\u001b[0;34m\u001b[0m\u001b[0;34m\u001b[0m\u001b[0m\n\u001b[0m\u001b[1;32m    160\u001b[0m \u001b[0;34m\u001b[0m\u001b[0m\n\u001b[1;32m    161\u001b[0m     \u001b[0;32mreturn\u001b[0m \u001b[0mparams\u001b[0m\u001b[0;34m\u001b[0m\u001b[0;34m\u001b[0m\u001b[0m\n",
      "\u001b[0;32m~/.virtualenvs/payulator/lib/python3.6/site-packages/voluptuous/schema_builder.py\u001b[0m in \u001b[0;36m__call__\u001b[0;34m(self, data)\u001b[0m\n\u001b[1;32m    265\u001b[0m         \u001b[0;34m\"\"\"Validate data against this schema.\"\"\"\u001b[0m\u001b[0;34m\u001b[0m\u001b[0;34m\u001b[0m\u001b[0m\n\u001b[1;32m    266\u001b[0m         \u001b[0;32mtry\u001b[0m\u001b[0;34m:\u001b[0m\u001b[0;34m\u001b[0m\u001b[0;34m\u001b[0m\u001b[0m\n\u001b[0;32m--> 267\u001b[0;31m             \u001b[0;32mreturn\u001b[0m \u001b[0mself\u001b[0m\u001b[0;34m.\u001b[0m\u001b[0m_compiled\u001b[0m\u001b[0;34m(\u001b[0m\u001b[0;34m[\u001b[0m\u001b[0;34m]\u001b[0m\u001b[0;34m,\u001b[0m \u001b[0mdata\u001b[0m\u001b[0;34m)\u001b[0m\u001b[0;34m\u001b[0m\u001b[0;34m\u001b[0m\u001b[0m\n\u001b[0m\u001b[1;32m    268\u001b[0m         \u001b[0;32mexcept\u001b[0m \u001b[0mer\u001b[0m\u001b[0;34m.\u001b[0m\u001b[0mMultipleInvalid\u001b[0m\u001b[0;34m:\u001b[0m\u001b[0;34m\u001b[0m\u001b[0;34m\u001b[0m\u001b[0m\n\u001b[1;32m    269\u001b[0m             \u001b[0;32mraise\u001b[0m\u001b[0;34m\u001b[0m\u001b[0;34m\u001b[0m\u001b[0m\n",
      "\u001b[0;32m~/.virtualenvs/payulator/lib/python3.6/site-packages/voluptuous/schema_builder.py\u001b[0m in \u001b[0;36mvalidate_dict\u001b[0;34m(path, data)\u001b[0m\n\u001b[1;32m    587\u001b[0m \u001b[0;34m\u001b[0m\u001b[0m\n\u001b[1;32m    588\u001b[0m             \u001b[0mout\u001b[0m \u001b[0;34m=\u001b[0m \u001b[0mdata\u001b[0m\u001b[0;34m.\u001b[0m\u001b[0m__class__\u001b[0m\u001b[0;34m(\u001b[0m\u001b[0;34m)\u001b[0m\u001b[0;34m\u001b[0m\u001b[0;34m\u001b[0m\u001b[0m\n\u001b[0;32m--> 589\u001b[0;31m             \u001b[0;32mreturn\u001b[0m \u001b[0mbase_validate\u001b[0m\u001b[0;34m(\u001b[0m\u001b[0mpath\u001b[0m\u001b[0;34m,\u001b[0m \u001b[0miteritems\u001b[0m\u001b[0;34m(\u001b[0m\u001b[0mdata\u001b[0m\u001b[0;34m)\u001b[0m\u001b[0;34m,\u001b[0m \u001b[0mout\u001b[0m\u001b[0;34m)\u001b[0m\u001b[0;34m\u001b[0m\u001b[0;34m\u001b[0m\u001b[0m\n\u001b[0m\u001b[1;32m    590\u001b[0m \u001b[0;34m\u001b[0m\u001b[0m\n\u001b[1;32m    591\u001b[0m         \u001b[0;32mreturn\u001b[0m \u001b[0mvalidate_dict\u001b[0m\u001b[0;34m\u001b[0m\u001b[0;34m\u001b[0m\u001b[0m\n",
      "\u001b[0;32m~/.virtualenvs/payulator/lib/python3.6/site-packages/voluptuous/schema_builder.py\u001b[0m in \u001b[0;36mvalidate_mapping\u001b[0;34m(path, iterable, out)\u001b[0m\n\u001b[1;32m    425\u001b[0m                 \u001b[0merrors\u001b[0m\u001b[0;34m.\u001b[0m\u001b[0mappend\u001b[0m\u001b[0;34m(\u001b[0m\u001b[0mer\u001b[0m\u001b[0;34m.\u001b[0m\u001b[0mRequiredFieldInvalid\u001b[0m\u001b[0;34m(\u001b[0m\u001b[0mmsg\u001b[0m\u001b[0;34m,\u001b[0m \u001b[0mpath\u001b[0m \u001b[0;34m+\u001b[0m \u001b[0;34m[\u001b[0m\u001b[0mkey\u001b[0m\u001b[0;34m]\u001b[0m\u001b[0;34m)\u001b[0m\u001b[0;34m)\u001b[0m\u001b[0;34m\u001b[0m\u001b[0;34m\u001b[0m\u001b[0m\n\u001b[1;32m    426\u001b[0m             \u001b[0;32mif\u001b[0m \u001b[0merrors\u001b[0m\u001b[0;34m:\u001b[0m\u001b[0;34m\u001b[0m\u001b[0;34m\u001b[0m\u001b[0m\n\u001b[0;32m--> 427\u001b[0;31m                 \u001b[0;32mraise\u001b[0m \u001b[0mer\u001b[0m\u001b[0;34m.\u001b[0m\u001b[0mMultipleInvalid\u001b[0m\u001b[0;34m(\u001b[0m\u001b[0merrors\u001b[0m\u001b[0;34m)\u001b[0m\u001b[0;34m\u001b[0m\u001b[0;34m\u001b[0m\u001b[0m\n\u001b[0m\u001b[1;32m    428\u001b[0m \u001b[0;34m\u001b[0m\u001b[0m\n\u001b[1;32m    429\u001b[0m             \u001b[0;32mreturn\u001b[0m \u001b[0mout\u001b[0m\u001b[0;34m\u001b[0m\u001b[0;34m\u001b[0m\u001b[0m\n",
      "\u001b[0;31mMultipleInvalid\u001b[0m: Not a nonnegative number for dictionary value @ data['interest_rate']"
     ]
    }
   ],
   "source": [
    "params = {\n",
    "    'code': 'test-20180324',\n",
    "    'principal': 10000,\n",
    "    'interest_rate': -0.12,\n",
    "    'kind': 'amortized',\n",
    "    'num_payments': 6,\n",
    "    'payment_freq': 'monthly',\n",
    "    'first_payment_date': '2018-03-24',\n",
    "    'fee': 0,\n",
    "    'lender': 'Bingo',\n",
    "    'borrowers': ['Bongo', 'Boom'],\n",
    "}\n",
    "\n",
    "params = pl.check_loan_params(params)\n",
    "# params = pl.prune_loan_params(params)\n",
    "# loan = pl.Loan(**params)\n",
    "# print(loan)"
   ]
  },
  {
   "cell_type": "code",
   "execution_count": null,
   "metadata": {},
   "outputs": [],
   "source": [
    "import voluptuous as vt\n",
    "vt.Mul"
   ]
  },
  {
   "cell_type": "code",
   "execution_count": 14,
   "metadata": {},
   "outputs": [
    {
     "data": {
      "text/plain": [
       "{'interest_and_fee_total': 602.9,\n",
       " 'interest_and_fee_total/principal': 0.06,\n",
       " 'interest_total': 352.9,\n",
       " 'payment_schedule':    payment_sequence payment_date  beginning_balance  principal_payment  \\\n",
       " 0                 1   2018-03-24           10000.00            1625.48   \n",
       " 1                 2   2018-04-24            8374.52            1641.74   \n",
       " 2                 3   2018-05-24            6732.78            1658.16   \n",
       " 3                 4   2018-06-24            5074.62            1674.74   \n",
       " 4                 5   2018-07-24            3399.88            1691.48   \n",
       " 5                 6   2018-08-24            1708.40            1708.40   \n",
       " \n",
       "    interest_payment  ending_balance  notes  \n",
       " 0            100.00         8374.52    NaN  \n",
       " 1             83.75         6732.78    NaN  \n",
       " 2             67.33         5074.62    NaN  \n",
       " 3             50.75         3399.88    NaN  \n",
       " 4             34.00         1708.40    NaN  \n",
       " 5             17.08            0.00    NaN  ,\n",
       " 'payment_total': 10602.9,\n",
       " 'periodic_payment': 1725.48}"
      ]
     },
     "execution_count": 14,
     "metadata": {},
     "output_type": "execute_result"
    }
   ],
   "source": [
    "loan.summarize()"
   ]
  },
  {
   "cell_type": "code",
   "execution_count": 17,
   "metadata": {},
   "outputs": [
    {
     "name": "stdout",
     "output_type": "stream",
     "text": [
      "code: test2-20180324\n",
      "kind: interest_only\n",
      "principal: 10000\n",
      "interest_rate: 0.12\n",
      "payment_freq: monthly\n",
      "compounding_freq: monthly\n",
      "num_payments: 6\n",
      "first_payment_date: 2018-03-24\n",
      "fee: 250\n"
     ]
    }
   ],
   "source": [
    "params = {\n",
    "    'code': 'test2-20180324',\n",
    "    'kind': 'interest_only',\n",
    "    'principal': 10000,\n",
    "    'interest_rate': 0.12,\n",
    "    'num_payments': 6,\n",
    "    'payment_freq': 'monthly',\n",
    "    'first_payment_date': '2018-03-24',\n",
    "    'fee': 250,\n",
    "    'lender': 'Bingo',\n",
    "    'borrowers': ['Bongo', 'Boom'],\n",
    "}\n",
    "\n",
    "params = pl.check_loan_params(params)\n",
    "params = pl.prune_loan_params(params)\n",
    "loan = pl.Loan(**params)\n",
    "print(loan)"
   ]
  },
  {
   "cell_type": "code",
   "execution_count": 18,
   "metadata": {},
   "outputs": [
    {
     "data": {
      "text/plain": [
       "{'interest_and_fee_total': 850.0,\n",
       " 'interest_and_fee_total/principal': 0.08,\n",
       " 'interest_total': 600.0,\n",
       " 'payment_schedule':    payment_sequence payment_date  beginning_balance  principal_payment  \\\n",
       " 0                 1   2018-03-24              10000                  0   \n",
       " 1                 2   2018-04-24              10000                  0   \n",
       " 2                 3   2018-05-24              10000                  0   \n",
       " 3                 4   2018-06-24              10000                  0   \n",
       " 4                 5   2018-07-24              10000                  0   \n",
       " 5                 6   2018-08-24              10000              10000   \n",
       " \n",
       "    interest_payment  ending_balance  notes  \n",
       " 0             100.0           10000    NaN  \n",
       " 1             100.0           10000    NaN  \n",
       " 2             100.0           10000    NaN  \n",
       " 3             100.0           10000    NaN  \n",
       " 4             100.0           10000    NaN  \n",
       " 5             100.0               0    NaN  ,\n",
       " 'payment_total': 10850.0}"
      ]
     },
     "execution_count": 18,
     "metadata": {},
     "output_type": "execute_result"
    }
   ],
   "source": [
    "loan.summarize()"
   ]
  },
  {
   "cell_type": "code",
   "execution_count": null,
   "metadata": {},
   "outputs": [],
   "source": []
  }
 ],
 "metadata": {
  "kernelspec": {
   "display_name": "Python 3",
   "language": "python",
   "name": "python3"
  },
  "language_info": {
   "codemirror_mode": {
    "name": "ipython",
    "version": 3
   },
   "file_extension": ".py",
   "mimetype": "text/x-python",
   "name": "python",
   "nbconvert_exporter": "python",
   "pygments_lexer": "ipython3",
   "version": "3.6.8"
  }
 },
 "nbformat": 4,
 "nbformat_minor": 2
}
