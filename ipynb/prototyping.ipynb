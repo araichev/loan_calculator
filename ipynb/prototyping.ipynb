{
 "cells": [
  {
   "cell_type": "code",
   "execution_count": 1,
   "metadata": {
    "collapsed": true
   },
   "outputs": [],
   "source": [
    "from pathlib import Path\n",
    "import sys\n",
    "\n",
    "import pandas as pd\n",
    "import numpy as np\n",
    "\n",
    "sys.path.append('../')\n",
    "import loan_calculator as lc\n",
    "\n",
    "\n",
    "%load_ext autoreload\n",
    "%autoreload 2\n",
    "\n",
    "LOAN_DIR = Path('../../loans') "
   ]
  },
  {
   "cell_type": "code",
   "execution_count": 2,
   "metadata": {},
   "outputs": [
    {
     "data": {
      "text/plain": [
       "{'interest_and_fee_total': 3740.5,\n",
       " 'interest_total': 3390.5,\n",
       " 'num_payments': 12,\n",
       " 'payment_schedule':     payment_seq payment_date  beginning_balance  principal_payment  \\\n",
       " 0             1   2018-02-06           20000.00            1450.11   \n",
       " 1             2   2018-05-06           18549.89            1486.30   \n",
       " 2             3   2018-08-06           17063.59            1523.39   \n",
       " 3             4   2018-11-06           15540.20            1561.41   \n",
       " 4             5   2019-02-06           13978.79            1600.37   \n",
       " 5             6   2019-05-06           12378.42            1640.31   \n",
       " 6             7   2019-08-06           10738.11            1681.24   \n",
       " 7             8   2019-11-06            9056.87            1723.20   \n",
       " 8             9   2020-02-06            7333.67            1766.20   \n",
       " 9            10   2020-05-06            5567.47            1810.27   \n",
       " 10           11   2020-08-06            3757.20            1855.45   \n",
       " 11           12   2020-11-06            1901.75            1901.75   \n",
       " \n",
       "     interest_payment  ending_balance  \n",
       " 0             499.09        18549.89  \n",
       " 1             462.91        17063.59  \n",
       " 2             425.82        15540.20  \n",
       " 3             387.80        13978.79  \n",
       " 4             348.84        12378.42  \n",
       " 5             308.90        10738.11  \n",
       " 6             267.97         9056.87  \n",
       " 7             226.01         7333.67  \n",
       " 8             183.01         5567.47  \n",
       " 9             138.93         3757.20  \n",
       " 10             93.76         1901.75  \n",
       " 11             47.46            0.00  ,\n",
       " 'payment_total': 23740.5,\n",
       " 'periodic_payment': 1949.21,\n",
       " 'return_rate': 0.19}"
      ]
     },
     "execution_count": 2,
     "metadata": {},
     "output_type": "execute_result"
    }
   ],
   "source": [
    "# Test some\n",
    "\n",
    "principal = 20000\n",
    "interest = 0.099\n",
    "compounding_freq = 'monthly'\n",
    "payment_freq = 'quarterly'\n",
    "num_years = 3\n",
    "fee = 350\n",
    "start_date = '2018-02-06'\n",
    "\n",
    "d = lc.amortize(principal, interest, compounding_freq, payment_freq, num_years, \n",
    "  fee, start_date)\n",
    "\n",
    "# path = LOAN_DIR/'resilio'/'payment_schedule.csv'\n",
    "# d['payment_schedule'].to_csv(path, index=False)\n",
    "\n",
    "d\n"
   ]
  },
  {
   "cell_type": "code",
   "execution_count": null,
   "metadata": {
    "collapsed": true
   },
   "outputs": [],
   "source": []
  }
 ],
 "metadata": {
  "kernelspec": {
   "display_name": "Python 3",
   "language": "python",
   "name": "python3"
  },
  "language_info": {
   "codemirror_mode": {
    "name": "ipython",
    "version": 3
   },
   "file_extension": ".py",
   "mimetype": "text/x-python",
   "name": "python",
   "nbconvert_exporter": "python",
   "pygments_lexer": "ipython3",
   "version": "3.5.2"
  }
 },
 "nbformat": 4,
 "nbformat_minor": 2
}
