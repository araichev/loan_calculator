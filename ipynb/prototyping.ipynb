{
 "cells": [
  {
   "cell_type": "code",
   "execution_count": null,
   "metadata": {},
   "outputs": [],
   "source": [
    "from pathlib import Path\n",
    "import sys\n",
    "\n",
    "import pandas as pd\n",
    "import numpy as np\n",
    "\n",
    "sys.path.append('../')\n",
    "import payulator as pl\n",
    "\n",
    "\n",
    "%load_ext autoreload\n",
    "%autoreload 2"
   ]
  },
  {
   "cell_type": "code",
   "execution_count": 2,
   "metadata": {},
   "outputs": [],
   "source": [
    "loan = pl.Loan(interest_rate=0.12)\n",
    "print(loan)\n",
    "loan.summarize()['payment_schedule']"
   ]
  },
  {
   "cell_type": "code",
   "execution_count": 22,
   "metadata": {},
   "outputs": [
    {
     "ename": "MultipleInvalid",
     "evalue": "value must be at least 0 for dictionary value @ data['interest_rate']",
     "output_type": "error",
     "traceback": [
      "\u001b[0;31m---------------------------------------------------------------------------\u001b[0m",
      "\u001b[0;31mMultipleInvalid\u001b[0m                           Traceback (most recent call last)",
      "\u001b[0;32m<ipython-input-22-b49209364dbe>\u001b[0m in \u001b[0;36m<module>\u001b[0;34m()\u001b[0m\n\u001b[1;32m     12\u001b[0m }\n\u001b[1;32m     13\u001b[0m \u001b[0;34m\u001b[0m\u001b[0m\n\u001b[0;32m---> 14\u001b[0;31m \u001b[0mparams\u001b[0m \u001b[0;34m=\u001b[0m \u001b[0mpl\u001b[0m\u001b[0;34m.\u001b[0m\u001b[0mcheck_loan_params\u001b[0m\u001b[0;34m(\u001b[0m\u001b[0mparams\u001b[0m\u001b[0;34m)\u001b[0m\u001b[0;34m\u001b[0m\u001b[0m\n\u001b[0m\u001b[1;32m     15\u001b[0m \u001b[0;31m# params = pl.prune_loan_params(params)\u001b[0m\u001b[0;34m\u001b[0m\u001b[0;34m\u001b[0m\u001b[0m\n\u001b[1;32m     16\u001b[0m \u001b[0;31m# loan = pl.Loan(**params)\u001b[0m\u001b[0;34m\u001b[0m\u001b[0;34m\u001b[0m\u001b[0m\n",
      "\u001b[0;32m~/payulator/payulator/loan.py\u001b[0m in \u001b[0;36mcheck_loan_params\u001b[0;34m(params)\u001b[0m\n\u001b[1;32m    142\u001b[0m     }, required=True, extra=vt.ALLOW_EXTRA)\n\u001b[1;32m    143\u001b[0m \u001b[0;34m\u001b[0m\u001b[0m\n\u001b[0;32m--> 144\u001b[0;31m     \u001b[0mparams\u001b[0m \u001b[0;34m=\u001b[0m \u001b[0mschema\u001b[0m\u001b[0;34m(\u001b[0m\u001b[0mparams\u001b[0m\u001b[0;34m)\u001b[0m\u001b[0;34m\u001b[0m\u001b[0m\n\u001b[0m\u001b[1;32m    145\u001b[0m \u001b[0;34m\u001b[0m\u001b[0m\n\u001b[1;32m    146\u001b[0m     \u001b[0;32mreturn\u001b[0m \u001b[0mparams\u001b[0m\u001b[0;34m\u001b[0m\u001b[0m\n",
      "\u001b[0;32m~/.virtualenvs/payulator-XgYhmOI3/lib/python3.5/site-packages/voluptuous/schema_builder.py\u001b[0m in \u001b[0;36m__call__\u001b[0;34m(self, data)\u001b[0m\n\u001b[1;32m    265\u001b[0m         \u001b[0;34m\"\"\"Validate data against this schema.\"\"\"\u001b[0m\u001b[0;34m\u001b[0m\u001b[0m\n\u001b[1;32m    266\u001b[0m         \u001b[0;32mtry\u001b[0m\u001b[0;34m:\u001b[0m\u001b[0;34m\u001b[0m\u001b[0m\n\u001b[0;32m--> 267\u001b[0;31m             \u001b[0;32mreturn\u001b[0m \u001b[0mself\u001b[0m\u001b[0;34m.\u001b[0m\u001b[0m_compiled\u001b[0m\u001b[0;34m(\u001b[0m\u001b[0;34m[\u001b[0m\u001b[0;34m]\u001b[0m\u001b[0;34m,\u001b[0m \u001b[0mdata\u001b[0m\u001b[0;34m)\u001b[0m\u001b[0;34m\u001b[0m\u001b[0m\n\u001b[0m\u001b[1;32m    268\u001b[0m         \u001b[0;32mexcept\u001b[0m \u001b[0mer\u001b[0m\u001b[0;34m.\u001b[0m\u001b[0mMultipleInvalid\u001b[0m\u001b[0;34m:\u001b[0m\u001b[0;34m\u001b[0m\u001b[0m\n\u001b[1;32m    269\u001b[0m             \u001b[0;32mraise\u001b[0m\u001b[0;34m\u001b[0m\u001b[0m\n",
      "\u001b[0;32m~/.virtualenvs/payulator-XgYhmOI3/lib/python3.5/site-packages/voluptuous/schema_builder.py\u001b[0m in \u001b[0;36mvalidate_dict\u001b[0;34m(path, data)\u001b[0m\n\u001b[1;32m    585\u001b[0m \u001b[0;34m\u001b[0m\u001b[0m\n\u001b[1;32m    586\u001b[0m             \u001b[0mout\u001b[0m \u001b[0;34m=\u001b[0m \u001b[0mdata\u001b[0m\u001b[0;34m.\u001b[0m\u001b[0m__class__\u001b[0m\u001b[0;34m(\u001b[0m\u001b[0;34m)\u001b[0m\u001b[0;34m\u001b[0m\u001b[0m\n\u001b[0;32m--> 587\u001b[0;31m             \u001b[0;32mreturn\u001b[0m \u001b[0mbase_validate\u001b[0m\u001b[0;34m(\u001b[0m\u001b[0mpath\u001b[0m\u001b[0;34m,\u001b[0m \u001b[0miteritems\u001b[0m\u001b[0;34m(\u001b[0m\u001b[0mdata\u001b[0m\u001b[0;34m)\u001b[0m\u001b[0;34m,\u001b[0m \u001b[0mout\u001b[0m\u001b[0;34m)\u001b[0m\u001b[0;34m\u001b[0m\u001b[0m\n\u001b[0m\u001b[1;32m    588\u001b[0m \u001b[0;34m\u001b[0m\u001b[0m\n\u001b[1;32m    589\u001b[0m         \u001b[0;32mreturn\u001b[0m \u001b[0mvalidate_dict\u001b[0m\u001b[0;34m\u001b[0m\u001b[0m\n",
      "\u001b[0;32m~/.virtualenvs/payulator-XgYhmOI3/lib/python3.5/site-packages/voluptuous/schema_builder.py\u001b[0m in \u001b[0;36mvalidate_mapping\u001b[0;34m(path, iterable, out)\u001b[0m\n\u001b[1;32m    423\u001b[0m                 \u001b[0merrors\u001b[0m\u001b[0;34m.\u001b[0m\u001b[0mappend\u001b[0m\u001b[0;34m(\u001b[0m\u001b[0mer\u001b[0m\u001b[0;34m.\u001b[0m\u001b[0mRequiredFieldInvalid\u001b[0m\u001b[0;34m(\u001b[0m\u001b[0mmsg\u001b[0m\u001b[0;34m,\u001b[0m \u001b[0mpath\u001b[0m \u001b[0;34m+\u001b[0m \u001b[0;34m[\u001b[0m\u001b[0mkey\u001b[0m\u001b[0;34m]\u001b[0m\u001b[0;34m)\u001b[0m\u001b[0;34m)\u001b[0m\u001b[0;34m\u001b[0m\u001b[0m\n\u001b[1;32m    424\u001b[0m             \u001b[0;32mif\u001b[0m \u001b[0merrors\u001b[0m\u001b[0;34m:\u001b[0m\u001b[0;34m\u001b[0m\u001b[0m\n\u001b[0;32m--> 425\u001b[0;31m                 \u001b[0;32mraise\u001b[0m \u001b[0mer\u001b[0m\u001b[0;34m.\u001b[0m\u001b[0mMultipleInvalid\u001b[0m\u001b[0;34m(\u001b[0m\u001b[0merrors\u001b[0m\u001b[0;34m)\u001b[0m\u001b[0;34m\u001b[0m\u001b[0m\n\u001b[0m\u001b[1;32m    426\u001b[0m \u001b[0;34m\u001b[0m\u001b[0m\n\u001b[1;32m    427\u001b[0m             \u001b[0;32mreturn\u001b[0m \u001b[0mout\u001b[0m\u001b[0;34m\u001b[0m\u001b[0m\n",
      "\u001b[0;31mMultipleInvalid\u001b[0m: value must be at least 0 for dictionary value @ data['interest_rate']"
     ]
    }
   ],
   "source": [
    "params = {\n",
    "    'code': 'test-20180324',\n",
    "    'principal': 10000,\n",
    "    'interest_rate': -0.12,\n",
    "    'kind': 'amortized',\n",
    "    'num_payments': 6,\n",
    "    'payment_freq': 'monthly',\n",
    "    'first_payment_date': '2018-03-24',\n",
    "    'fee': 0,\n",
    "    'lender': 'Bingo',\n",
    "    'borrowers': ['Bongo', 'Boom'],\n",
    "}\n",
    "\n",
    "params = pl.check_loan_params(params)\n",
    "# params = pl.prune_loan_params(params)\n",
    "# loan = pl.Loan(**params)\n",
    "# print(loan)"
   ]
  },
  {
   "cell_type": "code",
   "execution_count": null,
   "metadata": {},
   "outputs": [],
   "source": [
    "import voluptuous as vt\n",
    "vt.Mul"
   ]
  },
  {
   "cell_type": "code",
   "execution_count": 14,
   "metadata": {},
   "outputs": [
    {
     "data": {
      "text/plain": [
       "{'interest_and_fee_total': 602.9,\n",
       " 'interest_and_fee_total/principal': 0.06,\n",
       " 'interest_total': 352.9,\n",
       " 'payment_schedule':    payment_sequence payment_date  beginning_balance  principal_payment  \\\n",
       " 0                 1   2018-03-24           10000.00            1625.48   \n",
       " 1                 2   2018-04-24            8374.52            1641.74   \n",
       " 2                 3   2018-05-24            6732.78            1658.16   \n",
       " 3                 4   2018-06-24            5074.62            1674.74   \n",
       " 4                 5   2018-07-24            3399.88            1691.48   \n",
       " 5                 6   2018-08-24            1708.40            1708.40   \n",
       " \n",
       "    interest_payment  ending_balance  notes  \n",
       " 0            100.00         8374.52    NaN  \n",
       " 1             83.75         6732.78    NaN  \n",
       " 2             67.33         5074.62    NaN  \n",
       " 3             50.75         3399.88    NaN  \n",
       " 4             34.00         1708.40    NaN  \n",
       " 5             17.08            0.00    NaN  ,\n",
       " 'payment_total': 10602.9,\n",
       " 'periodic_payment': 1725.48}"
      ]
     },
     "execution_count": 14,
     "metadata": {},
     "output_type": "execute_result"
    }
   ],
   "source": [
    "loan.summarize()"
   ]
  },
  {
   "cell_type": "code",
   "execution_count": 17,
   "metadata": {},
   "outputs": [
    {
     "name": "stdout",
     "output_type": "stream",
     "text": [
      "code: test2-20180324\n",
      "kind: interest_only\n",
      "principal: 10000\n",
      "interest_rate: 0.12\n",
      "payment_freq: monthly\n",
      "compounding_freq: monthly\n",
      "num_payments: 6\n",
      "first_payment_date: 2018-03-24\n",
      "fee: 250\n"
     ]
    }
   ],
   "source": [
    "params = {\n",
    "    'code': 'test2-20180324',\n",
    "    'kind': 'interest_only',\n",
    "    'principal': 10000,\n",
    "    'interest_rate': 0.12,\n",
    "    'num_payments': 6,\n",
    "    'payment_freq': 'monthly',\n",
    "    'first_payment_date': '2018-03-24',\n",
    "    'fee': 250,\n",
    "    'lender': 'Bingo',\n",
    "    'borrowers': ['Bongo', 'Boom'],\n",
    "}\n",
    "\n",
    "params = pl.check_loan_params(params)\n",
    "params = pl.prune_loan_params(params)\n",
    "loan = pl.Loan(**params)\n",
    "print(loan)"
   ]
  },
  {
   "cell_type": "code",
   "execution_count": 18,
   "metadata": {},
   "outputs": [
    {
     "data": {
      "text/plain": [
       "{'interest_and_fee_total': 850.0,\n",
       " 'interest_and_fee_total/principal': 0.08,\n",
       " 'interest_total': 600.0,\n",
       " 'payment_schedule':    payment_sequence payment_date  beginning_balance  principal_payment  \\\n",
       " 0                 1   2018-03-24              10000                  0   \n",
       " 1                 2   2018-04-24              10000                  0   \n",
       " 2                 3   2018-05-24              10000                  0   \n",
       " 3                 4   2018-06-24              10000                  0   \n",
       " 4                 5   2018-07-24              10000                  0   \n",
       " 5                 6   2018-08-24              10000              10000   \n",
       " \n",
       "    interest_payment  ending_balance  notes  \n",
       " 0             100.0           10000    NaN  \n",
       " 1             100.0           10000    NaN  \n",
       " 2             100.0           10000    NaN  \n",
       " 3             100.0           10000    NaN  \n",
       " 4             100.0           10000    NaN  \n",
       " 5             100.0               0    NaN  ,\n",
       " 'payment_total': 10850.0}"
      ]
     },
     "execution_count": 18,
     "metadata": {},
     "output_type": "execute_result"
    }
   ],
   "source": [
    "loan.summarize()"
   ]
  },
  {
   "cell_type": "code",
   "execution_count": null,
   "metadata": {},
   "outputs": [],
   "source": []
  }
 ],
 "metadata": {
  "kernelspec": {
   "display_name": "Python 3",
   "language": "python",
   "name": "python3"
  },
  "language_info": {
   "codemirror_mode": {
    "name": "ipython",
    "version": 3
   },
   "file_extension": ".py",
   "mimetype": "text/x-python",
   "name": "python",
   "nbconvert_exporter": "python",
   "pygments_lexer": "ipython3",
   "version": "3.5.2"
  }
 },
 "nbformat": 4,
 "nbformat_minor": 2
}
